{
 "cells": [
  {
   "cell_type": "code",
   "execution_count": 9,
   "metadata": {
    "scrolled": true
   },
   "outputs": [
    {
     "name": "stdout",
     "output_type": "stream",
     "text": [
      "Requirement already satisfied: emoji in c:\\users\\rosane\\anaconda3\\lib\\site-packages (1.2.0)\n"
     ]
    }
   ],
   "source": [
    "!pip install emoji"
   ]
  },
  {
   "cell_type": "code",
   "execution_count": 10,
   "metadata": {},
   "outputs": [],
   "source": [
    "import re\n",
    "import regex\n",
    "import pandas as pd\n",
    "import numpy as np\n",
    "import emoji\n",
    "import plotly.express as px\n",
    "from collections import Counter\n",
    "import matplotlib.pyplot as plt\n",
    "from os import path\n",
    "from PIL import Image\n",
    "from emoji import UNICODE_EMOJI\n",
    "from wordcloud import WordCloud, STOPWORDS, ImageColorGenerator\n",
    "%matplotlib inline"
   ]
  },
  {
   "cell_type": "code",
   "execution_count": 11,
   "metadata": {},
   "outputs": [],
   "source": [
    "def iniciaDataHora(s):\n",
    "    padrao = '^(\\d{2})(\\/)(\\d{2})(\\/)(\\d{4}) (\\d{2}):(\\d{2})[ ]? -' \n",
    "    resultado = re.match(padrao, s)\n",
    "    if resultado:\n",
    "        return True\n",
    "    return False"
   ]
  },
  {
   "cell_type": "code",
   "execution_count": 12,
   "metadata": {},
   "outputs": [],
   "source": [
    "autores_anoni = []\n",
    "def anonimizarAutor(autor):\n",
    "    if autor is None:\n",
    "        return autor\n",
    "    if autor in autores_anoni:\n",
    "        return autores_anoni.index(autor) + 1\n",
    "    else:\n",
    "        autores_anoni.append(autor)\n",
    "        return autores_anoni.index(autor) + 1"
   ]
  },
  {
   "cell_type": "code",
   "execution_count": 13,
   "metadata": {},
   "outputs": [],
   "source": [
    "def dadosSeparados(linha):\n",
    "    #01/11/2020 15:25 - Exemplo: Oi, eu sou o Exemplo\n",
    "\n",
    "    data_search = re.search(\"(\\d{2})(\\/)(\\d{2})(\\/)(\\d{4})\", linha)\n",
    "    data = data_search.group()\n",
    "\n",
    "    hora_search = re.search(\"(\\d{2}):(\\d{2})\", linha)\n",
    "    hora = hora_search.group()\n",
    "\n",
    "    #para o autor estamos pegando a string que está entre \"- \" e \": \"\n",
    "    autor_search = re.search(\"(?<=\\-\\s)(.*?)(?=\\:\\s)\", linha)\n",
    "    if autor_search is None:\n",
    "        autor = None\n",
    "    else:\n",
    "        autor = anonimizarAutor(autor_search.group())\n",
    "    \n",
    "    mensagem_search = re.search(\"(?<=\\:\\s).*\", linha)\n",
    "    if mensagem_search is None:\n",
    "        mensagem = \"\"\n",
    "    else:\n",
    "        mensagem = mensagem_search.group()\n",
    "\n",
    "    return data, hora, autor, mensagem"
   ]
  },
  {
   "cell_type": "code",
   "execution_count": 14,
   "metadata": {
    "scrolled": false
   },
   "outputs": [],
   "source": [
    "dadoAnalisado = []\n",
    "conversationPath = 'c:\\mba\\exe_whats2.txt' \n",
    "with open(conversationPath, encoding=\"utf-8\") as fp:\n",
    "    fp.readline()\n",
    "    mensagemBuffer = [] \n",
    "    data, hora, autor, mensagem = None, None, None, \"\"\n",
    "    while True:\n",
    "        linha = fp.readline() \n",
    "        if not linha: \n",
    "            break\n",
    "        linha = linha.strip() \n",
    "        if iniciaDataHora(linha):\n",
    "            if len(mensagem) > 0: \n",
    "                dadoAnalisado.append([data, hora, autor, mensagem])\n",
    "            data, hora, autor, mensagem = dadosSeparados(linha)\n",
    "       "
   ]
  },
  {
   "cell_type": "code",
   "execution_count": 15,
   "metadata": {
    "scrolled": true
   },
   "outputs": [
    {
     "data": {
      "text/html": [
       "<div>\n",
       "<style scoped>\n",
       "    .dataframe tbody tr th:only-of-type {\n",
       "        vertical-align: middle;\n",
       "    }\n",
       "\n",
       "    .dataframe tbody tr th {\n",
       "        vertical-align: top;\n",
       "    }\n",
       "\n",
       "    .dataframe thead th {\n",
       "        text-align: right;\n",
       "    }\n",
       "</style>\n",
       "<table border=\"1\" class=\"dataframe\">\n",
       "  <thead>\n",
       "    <tr style=\"text-align: right;\">\n",
       "      <th></th>\n",
       "      <th>data</th>\n",
       "      <th>hora</th>\n",
       "      <th>autor</th>\n",
       "      <th>mensagem</th>\n",
       "    </tr>\n",
       "  </thead>\n",
       "  <tbody>\n",
       "    <tr>\n",
       "      <th>0</th>\n",
       "      <td>2021-04-13</td>\n",
       "      <td>20:50</td>\n",
       "      <td>1</td>\n",
       "      <td>Grupo Rosa Matias</td>\n",
       "    </tr>\n",
       "    <tr>\n",
       "      <th>1</th>\n",
       "      <td>2021-04-13</td>\n",
       "      <td>20:50</td>\n",
       "      <td>2</td>\n",
       "      <td>Todos?</td>\n",
       "    </tr>\n",
       "    <tr>\n",
       "      <th>2</th>\n",
       "      <td>2021-04-13</td>\n",
       "      <td>20:51</td>\n",
       "      <td>3</td>\n",
       "      <td>&lt;Arquivo de mídia oculto&gt;</td>\n",
       "    </tr>\n",
       "    <tr>\n",
       "      <th>3</th>\n",
       "      <td>2021-04-13</td>\n",
       "      <td>20:51</td>\n",
       "      <td>1</td>\n",
       "      <td>Presrnte</td>\n",
       "    </tr>\n",
       "    <tr>\n",
       "      <th>4</th>\n",
       "      <td>2021-04-13</td>\n",
       "      <td>20:51</td>\n",
       "      <td>2</td>\n",
       "      <td>Okaaaay</td>\n",
       "    </tr>\n",
       "    <tr>\n",
       "      <th>5</th>\n",
       "      <td>2021-04-13</td>\n",
       "      <td>20:51</td>\n",
       "      <td>4</td>\n",
       "      <td>👊🏿</td>\n",
       "    </tr>\n",
       "    <tr>\n",
       "      <th>6</th>\n",
       "      <td>2021-04-13</td>\n",
       "      <td>20:51</td>\n",
       "      <td>5</td>\n",
       "      <td>✌🏾👍🏾</td>\n",
       "    </tr>\n",
       "    <tr>\n",
       "      <th>7</th>\n",
       "      <td>2021-04-13</td>\n",
       "      <td>20:53</td>\n",
       "      <td>6</td>\n",
       "      <td>Yeah</td>\n",
       "    </tr>\n",
       "    <tr>\n",
       "      <th>8</th>\n",
       "      <td>2021-04-13</td>\n",
       "      <td>20:54</td>\n",
       "      <td>7</td>\n",
       "      <td>tentei pegar um diferente dos que já tem</td>\n",
       "    </tr>\n",
       "    <tr>\n",
       "      <th>9</th>\n",
       "      <td>2021-04-13</td>\n",
       "      <td>20:54</td>\n",
       "      <td>7</td>\n",
       "      <td>senão confunde tudo</td>\n",
       "    </tr>\n",
       "    <tr>\n",
       "      <th>10</th>\n",
       "      <td>2021-04-13</td>\n",
       "      <td>20:54</td>\n",
       "      <td>6</td>\n",
       "      <td>Arrasou hahahahha</td>\n",
       "    </tr>\n",
       "    <tr>\n",
       "      <th>11</th>\n",
       "      <td>2021-04-13</td>\n",
       "      <td>20:54</td>\n",
       "      <td>6</td>\n",
       "      <td>Impacta que lute</td>\n",
       "    </tr>\n",
       "    <tr>\n",
       "      <th>12</th>\n",
       "      <td>2021-04-13</td>\n",
       "      <td>20:54</td>\n",
       "      <td>6</td>\n",
       "      <td>Com o tanto de logo que precisamos ter</td>\n",
       "    </tr>\n",
       "    <tr>\n",
       "      <th>13</th>\n",
       "      <td>2021-04-13</td>\n",
       "      <td>20:54</td>\n",
       "      <td>6</td>\n",
       "      <td>&lt;Arquivo de mídia oculto&gt;</td>\n",
       "    </tr>\n",
       "    <tr>\n",
       "      <th>14</th>\n",
       "      <td>2021-04-13</td>\n",
       "      <td>20:55</td>\n",
       "      <td>7</td>\n",
       "      <td>&lt;Arquivo de mídia oculto&gt;</td>\n",
       "    </tr>\n",
       "    <tr>\n",
       "      <th>15</th>\n",
       "      <td>2021-04-13</td>\n",
       "      <td>22:52</td>\n",
       "      <td>7</td>\n",
       "      <td>&lt;Arquivo de mídia oculto&gt;</td>\n",
       "    </tr>\n",
       "    <tr>\n",
       "      <th>16</th>\n",
       "      <td>2021-04-13</td>\n",
       "      <td>22:52</td>\n",
       "      <td>2</td>\n",
       "      <td>Eu anotei tbm o que ele falou</td>\n",
       "    </tr>\n",
       "    <tr>\n",
       "      <th>17</th>\n",
       "      <td>2021-04-13</td>\n",
       "      <td>22:52</td>\n",
       "      <td>5</td>\n",
       "      <td>Anotado aqui tbm</td>\n",
       "    </tr>\n",
       "    <tr>\n",
       "      <th>18</th>\n",
       "      <td>2021-04-13</td>\n",
       "      <td>22:52</td>\n",
       "      <td>1</td>\n",
       "      <td>Anotado por aqui tbm</td>\n",
       "    </tr>\n",
       "    <tr>\n",
       "      <th>19</th>\n",
       "      <td>2021-04-13</td>\n",
       "      <td>22:53</td>\n",
       "      <td>4</td>\n",
       "      <td>anotado</td>\n",
       "    </tr>\n",
       "  </tbody>\n",
       "</table>\n",
       "</div>"
      ],
      "text/plain": [
       "         data   hora  autor                                  mensagem\n",
       "0  2021-04-13  20:50      1                         Grupo Rosa Matias\n",
       "1  2021-04-13  20:50      2                                    Todos?\n",
       "2  2021-04-13  20:51      3                 <Arquivo de mídia oculto>\n",
       "3  2021-04-13  20:51      1                                  Presrnte\n",
       "4  2021-04-13  20:51      2                                   Okaaaay\n",
       "5  2021-04-13  20:51      4                                        👊🏿\n",
       "6  2021-04-13  20:51      5                                      ✌🏾👍🏾\n",
       "7  2021-04-13  20:53      6                                      Yeah\n",
       "8  2021-04-13  20:54      7  tentei pegar um diferente dos que já tem\n",
       "9  2021-04-13  20:54      7                       senão confunde tudo\n",
       "10 2021-04-13  20:54      6                         Arrasou hahahahha\n",
       "11 2021-04-13  20:54      6                          Impacta que lute\n",
       "12 2021-04-13  20:54      6    Com o tanto de logo que precisamos ter\n",
       "13 2021-04-13  20:54      6                 <Arquivo de mídia oculto>\n",
       "14 2021-04-13  20:55      7                 <Arquivo de mídia oculto>\n",
       "15 2021-04-13  22:52      7                 <Arquivo de mídia oculto>\n",
       "16 2021-04-13  22:52      2             Eu anotei tbm o que ele falou\n",
       "17 2021-04-13  22:52      5                          Anotado aqui tbm\n",
       "18 2021-04-13  22:52      1                      Anotado por aqui tbm\n",
       "19 2021-04-13  22:53      4                                   anotado"
      ]
     },
     "execution_count": 15,
     "metadata": {},
     "output_type": "execute_result"
    }
   ],
   "source": [
    "df = pd.DataFrame(dadoAnalisado, columns=['data', 'hora', 'autor', 'mensagem'])\n",
    "df[\"data\"] = pd.to_datetime(df[\"data\"])\n",
    "df = df.dropna()\n",
    "df.head(20)\n"
   ]
  },
  {
   "cell_type": "code",
   "execution_count": 16,
   "metadata": {},
   "outputs": [],
   "source": [
    "def split_count(text):\n",
    "    emoji_list = []\n",
    "    data = regex.findall(r'\\X', text)\n",
    "    for word in data:\n",
    "        if any(char in emoji.UNICODE_EMOJI for char in word):\n",
    "            emoji_list.append(word)\n",
    "    return emoji_list"
   ]
  },
  {
   "cell_type": "code",
   "execution_count": 17,
   "metadata": {},
   "outputs": [
    {
     "name": "stdout",
     "output_type": "stream",
     "text": [
      "******************************************************\n",
      "Contagem geral dos dados do grupo: \n",
      "Integrantes do grupo:  8\n",
      "Mensagem: 3817\n",
      "Mídia: 166\n",
      "Emojis: 0\n",
      "Links: 35\n",
      "******************************************************\n"
     ]
    }
   ],
   "source": [
    "total_participantes = df['autor'].nunique()\n",
    "total_mensagens = df.shape[0]\n",
    "media_mensagens = df[df['mensagem'] == '<Arquivo de mídia oculto>'].shape[0]\n",
    "df[\"emoji\"] = df[\"mensagem\"].apply(split_count)\n",
    "emojis = sum(df['emoji'].str.len())\n",
    "URLPATTERN = r'(https?://\\S+)'\n",
    "df['urlcount'] = df.mensagem.apply(lambda x: re.findall(URLPATTERN, x)).str.len()\n",
    "links = np.sum(df.urlcount)\n",
    "print(\"******************************************************\")\n",
    "print(\"Contagem geral dos dados do grupo: \")\n",
    "print(\"Integrantes do grupo: \", total_participantes)\n",
    "print(\"Mensagem:\",total_mensagens)\n",
    "print(\"Mídia:\",media_mensagens)\n",
    "print(\"Emojis:\",emojis)\n",
    "print(\"Links:\",links)\n",
    "print(\"******************************************************\")"
   ]
  },
  {
   "cell_type": "code",
   "execution_count": 27,
   "metadata": {
    "scrolled": false
   },
   "outputs": [
    {
     "name": "stdout",
     "output_type": "stream",
     "text": [
      "There are 110165 words in all the messages.\n"
     ]
    }
   ],
   "source": [
    "media_mensagens_df = df[df['mensagem'] == '<Arquivo de mídia oculto>']\n",
    "mensagens_df = df.drop(media_mensagens_df.index)\n",
    "\n",
    "apagadas_mensagens_df = mensagens_df[mensagens_df['mensagem'] == 'Essa mensagem foi apagada']\n",
    "mensagens_df = mensagens_df.drop(apagadas_mensagens_df.index)\n",
    "\n",
    "mensagens_df['cont_letras'] = mensagens_df['mensagem'].apply(lambda s : len(s))\n",
    "mensagens_df['cont_palavras'] = mensagens_df['mensagem'].apply(lambda s : len(s.split(' ')))\n",
    "mensagens_df[\"cont_mensagem\"]=1\n",
    "mensagens_df[\"cont_emoji\"]= df['emoji'].str.len()\n",
    "mensagens_df.head(20)\n",
    "text = \" \".join(review for review in mensagens_df.mensagem)\n",
    "print (\"There are {} words in all the messages.\".format(len(text)))\n",
    "# OUTPUT - \n",
    "# There are 110165 words in all the messages.\n"
   ]
  },
  {
   "cell_type": "code",
   "execution_count": 28,
   "metadata": {
    "scrolled": true
   },
   "outputs": [
    {
     "name": "stdout",
     "output_type": "stream",
     "text": [
      "Estatísticas de 1\n",
      "Mensagens enviadas: 632\n",
      "Palavras por mensagem: 4.332278481012659\n",
      "Mensagens de mídia enviadas: 18\n",
      "Emojis enviados: 0\n",
      "Links enviados: 17\n",
      "\n",
      "Estatísticas de 2\n",
      "Mensagens enviadas: 479\n",
      "Palavras por mensagem: 5.864300626304802\n",
      "Mensagens de mídia enviadas: 23\n",
      "Emojis enviados: 0\n",
      "Links enviados: 1\n",
      "\n",
      "Estatísticas de 4\n",
      "Mensagens enviadas: 104\n",
      "Palavras por mensagem: 5.490384615384615\n",
      "Mensagens de mídia enviadas: 6\n",
      "Emojis enviados: 0\n",
      "Links enviados: 2\n",
      "\n",
      "Estatísticas de 5\n",
      "Mensagens enviadas: 147\n",
      "Palavras por mensagem: 6.414965986394558\n",
      "Mensagens de mídia enviadas: 9\n",
      "Emojis enviados: 0\n",
      "Links enviados: 0\n",
      "\n",
      "Estatísticas de 6\n",
      "Mensagens enviadas: 479\n",
      "Palavras por mensagem: 4.893528183716075\n",
      "Mensagens de mídia enviadas: 32\n",
      "Emojis enviados: 0\n",
      "Links enviados: 4\n",
      "\n",
      "Estatísticas de 7\n",
      "Mensagens enviadas: 1092\n",
      "Palavras por mensagem: 6.603479853479853\n",
      "Mensagens de mídia enviadas: 46\n",
      "Emojis enviados: 0\n",
      "Links enviados: 9\n",
      "\n",
      "Estatísticas de 3\n",
      "Mensagens enviadas: 409\n",
      "Palavras por mensagem: 5.386308068459658\n",
      "Mensagens de mídia enviadas: 12\n",
      "Emojis enviados: 0\n",
      "Links enviados: 0\n",
      "\n",
      "Estatísticas de 8\n",
      "Mensagens enviadas: 302\n",
      "Palavras por mensagem: 4.748344370860927\n",
      "Mensagens de mídia enviadas: 20\n",
      "Emojis enviados: 0\n",
      "Links enviados: 2\n",
      "\n"
     ]
    }
   ],
   "source": [
    "# Cria uma lista com os autores únicos\n",
    "l = mensagens_df.autor.unique()\n",
    "\n",
    "for i in range(len(l)):\n",
    "  # Filtra mensagens de um autor específico\n",
    "  req_df = mensagens_df[mensagens_df[\"autor\"] == l[i]]\n",
    "  \n",
    "  print(f'Estatísticas de {l[i]}')\n",
    "  print('Mensagens enviadas:', req_df.shape[0])\n",
    "\n",
    "  # cont_palavras contém o total de palavras por mensagem. Soma de todas palavras\n",
    "  palavras_por_mensagem = (np.sum(req_df['cont_palavras']))/req_df.shape[0]\n",
    "  print('Palavras por mensagem:', palavras_por_mensagem)\n",
    "  \n",
    "  media = media_mensagens_df[media_mensagens_df['autor'] == l[i]].shape[0]\n",
    "  print('Mensagens de mídia enviadas:', media)\n",
    "\n",
    "  emojis = sum(req_df['emoji'].str.len())\n",
    "  print('Emojis enviados:', emojis)\n",
    "\n",
    "  links = sum(req_df[\"urlcount\"])   \n",
    "  print('Links enviados:', links)   \n",
    "  print()"
   ]
  },
  {
   "cell_type": "code",
   "execution_count": 29,
   "metadata": {
    "scrolled": true
   },
   "outputs": [
    {
     "data": {
      "image/png": "[encoded data removed]",
      "text/plain": [
       "<Figure size 1440x720 with 1 Axes>"
      ]
     },
     "metadata": {
      "needs_background": "light"
     },
     "output_type": "display_data"
    }
   ],
   "source": [
    "plt.title('QTDE DE MENSAGENS POR PARTICIPANTE')\n",
    "participante_grupo = df.groupby('autor')['mensagem'].count().plot(kind='bar', figsize=(20,10), color='red')"
   ]
  },
  {
   "cell_type": "code",
   "execution_count": 30,
   "metadata": {
    "scrolled": true
   },
   "outputs": [
    {
     "data": {
      "image/png": "[encoded data removed]",
      "text/plain": [
       "<Figure size 1440x720 with 1 Axes>"
      ]
     },
     "metadata": {
      "needs_background": "light"
     },
     "output_type": "display_data"
    }
   ],
   "source": [
    "plt.title('DIA QUE MAIS TROCAMOS MENSAGENS')\n",
    "date_grouped = df.groupby('data')['mensagem'].count().plot(kind='bar', figsize=(20,10), color='red')"
   ]
  },
  {
   "cell_type": "code",
   "execution_count": 31,
   "metadata": {},
   "outputs": [
    {
     "data": {
      "application/vnd.plotly.v1+json": {
       "config": {
        "plotlyServerURL": "https://plot.ly"
       },
       "data": [
        {
         "alignmentgroup": "True",
         "hovertemplate": "hora=%{x}<br>count=%{y}<extra></extra>",
         "legendgroup": "",
         "marker": {
          "color": "# EDCC8B",
          "line": {
           "color": "#D4A29C",
           "width": 1.5
          }
         },
         "name": "",
         "offsetgroup": "",
         "opacity": 0.6,
         "orientation": "v",
         "showlegend": false,
         "textposition": "auto",
         "type": "bar",
         "x": [
          "00:02",
          "00:16",
          "00:17",
          "00:18",
          "00:19",
          "00:23",
          "00:24",
          "00:25",
          "00:26",
          "00:31",
          "00:33",
          "00:35",
          "00:36",
          "00:37",
          "00:41",
          "00:42",
          "00:46",
          "00:52",
          "01:08",
          "01:18",
          "01:27",
          "01:35",
          "06:05",
          "06:06",
          "06:35",
          "06:37",
          "07:04",
          "07:08",
          "07:09",
          "07:18",
          "07:20",
          "07:45",
          "08:19",
          "08:20",
          "08:22",
          "08:25",
          "08:30",
          "08:32",
          "08:33",
          "08:37",
          "08:52",
          "09:01",
          "09:04",
          "09:16",
          "09:34",
          "09:40",
          "09:41",
          "09:42",
          "09:43",
          "09:44",
          "09:45",
          "09:46",
          "09:47",
          "09:48",
          "09:49",
          "09:50",
          "09:51",
          "09:52",
          "09:53",
          "09:54",
          "09:55",
          "09:56",
          "09:57",
          "09:58",
          "09:59",
          "10:00",
          "10:01",
          "10:02",
          "10:03",
          "10:04",
          "10:05",
          "10:06",
          "10:07",
          "10:08",
          "10:09",
          "10:10",
          "10:11",
          "10:12",
          "10:13",
          "10:14",
          "10:15",
          "10:16",
          "10:17",
          "10:18",
          "10:19",
          "10:20",
          "10:21",
          "10:22",
          "10:23",
          "10:24",
          "10:25",
          "10:27",
          "10:28",
          "10:29",
          "10:30",
          "10:31",
          "10:32",
          "10:34",
          "10:35",
          "10:36",
          "10:37",
          "10:38",
          "10:39",
          "10:40",
          "10:41",
          "10:42",
          "10:43",
          "10:44",
          "10:45",
          "10:46",
          "10:49",
          "10:50",
          "10:51",
          "10:52",
          "10:53",
          "10:54",
          "10:55",
          "10:56",
          "10:57",
          "10:58",
          "10:59",
          "11:00",
          "11:01",
          "11:02",
          "11:03",
          "11:04",
          "11:05",
          "11:06",
          "11:07",
          "11:08",
          "11:09",
          "11:10",
          "11:11",
          "11:12",
          "11:13",
          "11:14",
          "11:17",
          "11:18",
          "11:20",
          "11:21",
          "11:22",
          "11:23",
          "11:24",
          "11:25",
          "11:26",
          "11:27",
          "11:29",
          "11:31",
          "11:32",
          "11:33",
          "11:34",
          "11:35",
          "11:36",
          "11:37",
          "11:38",
          "11:41",
          "11:42",
          "11:43",
          "11:44",
          "11:45",
          "11:46",
          "11:47",
          "11:48",
          "11:49",
          "11:50",
          "11:51",
          "11:52",
          "11:53",
          "11:54",
          "11:58",
          "12:05",
          "12:06",
          "12:07",
          "12:08",
          "12:13",
          "12:15",
          "12:18",
          "12:22",
          "12:23",
          "12:24",
          "12:25",
          "12:26",
          "12:27",
          "12:28",
          "12:29",
          "12:30",
          "12:31",
          "12:33",
          "12:34",
          "12:35",
          "12:36",
          "12:37",
          "12:38",
          "12:39",
          "12:40",
          "12:41",
          "12:42",
          "12:44",
          "12:47",
          "12:48",
          "12:51",
          "12:54",
          "12:56",
          "12:57",
          "12:58",
          "13:00",
          "13:02",
          "13:03",
          "13:04",
          "13:05",
          "13:09",
          "13:10",
          "13:11",
          "13:12",
          "13:13",
          "13:14",
          "13:15",
          "13:16",
          "13:18",
          "13:22",
          "13:23",
          "13:24",
          "13:26",
          "13:27",
          "13:29",
          "13:30",
          "13:31",
          "13:32",
          "13:33",
          "13:35",
          "13:36",
          "13:38",
          "13:39",
          "13:42",
          "13:46",
          "13:47",
          "13:48",
          "13:50",
          "13:51",
          "13:52",
          "13:54",
          "13:56",
          "13:57",
          "13:58",
          "13:59",
          "14:00",
          "14:01",
          "14:02",
          "14:03",
          "14:05",
          "14:06",
          "14:07",
          "14:08",
          "14:10",
          "14:11",
          "14:12",
          "14:13",
          "14:14",
          "14:15",
          "14:16",
          "14:17",
          "14:18",
          "14:19",
          "14:20",
          "14:21",
          "14:22",
          "14:23",
          "14:24",
          "14:25",
          "14:26",
          "14:27",
          "14:28",
          "14:29",
          "14:30",
          "14:31",
          "14:32",
          "14:33",
          "14:34",
          "14:35",
          "14:36",
          "14:37",
          "14:38",
          "14:40",
          "14:41",
          "14:42",
          "14:46",
          "14:47",
          "14:48",
          "14:49",
          "14:50",
          "14:51",
          "14:53",
          "14:55",
          "14:56",
          "14:57",
          "15:00",
          "15:02",
          "15:04",
          "15:06",
          "15:09",
          "15:25",
          "15:26",
          "15:27",
          "15:28",
          "15:29",
          "15:30",
          "15:31",
          "15:33",
          "15:36",
          "15:44",
          "15:45",
          "15:46",
          "15:47",
          "15:49",
          "15:52",
          "15:54",
          "15:59",
          "16:04",
          "16:07",
          "16:08",
          "16:09",
          "16:10",
          "16:11",
          "16:12",
          "16:15",
          "16:16",
          "16:17",
          "16:19",
          "16:21",
          "16:23",
          "16:24",
          "16:25",
          "16:26",
          "16:27",
          "16:28",
          "16:30",
          "16:33",
          "16:35",
          "16:37",
          "16:38",
          "16:45",
          "16:49",
          "16:50",
          "16:52",
          "16:53",
          "16:57",
          "16:58",
          "16:59",
          "17:00",
          "17:01",
          "17:02",
          "17:03",
          "17:04",
          "17:10",
          "17:11",
          "17:12",
          "17:13",
          "17:14",
          "17:15",
          "17:18",
          "17:20",
          "17:24",
          "17:25",
          "17:27",
          "17:28",
          "17:37",
          "17:42",
          "17:43",
          "17:44",
          "17:46",
          "17:55",
          "17:56",
          "17:57",
          "17:58",
          "18:01",
          "18:07",
          "18:08",
          "18:10",
          "18:11",
          "18:14",
          "18:16",
          "18:20",
          "18:21",
          "18:22",
          "18:23",
          "18:26",
          "18:27",
          "18:28",
          "18:30",
          "18:31",
          "18:33",
          "18:34",
          "18:35",
          "18:36",
          "18:37",
          "18:38",
          "18:39",
          "18:41",
          "18:42",
          "18:43",
          "18:44",
          "18:45",
          "18:46",
          "18:47",
          "18:48",
          "18:49",
          "18:50",
          "18:51",
          "18:52",
          "18:53",
          "18:54",
          "18:55",
          "18:56",
          "18:57",
          "18:58",
          "18:59",
          "19:00",
          "19:01",
          "19:02",
          "19:03",
          "19:04",
          "19:05",
          "19:06",
          "19:07",
          "19:08",
          "19:09",
          "19:10",
          "19:11",
          "19:12",
          "19:13",
          "19:14",
          "19:15",
          "19:16",
          "19:17",
          "19:18",
          "19:19",
          "19:20",
          "19:21",
          "19:22",
          "19:23",
          "19:24",
          "19:25",
          "19:26",
          "19:27",
          "19:28",
          "19:29",
          "19:30",
          "19:31",
          "19:32",
          "19:33",
          "19:34",
          "19:38",
          "19:39",
          "19:40",
          "19:41",
          "19:42",
          "19:43",
          "19:44",
          "19:45",
          "19:46",
          "19:47",
          "19:48",
          "19:49",
          "19:50",
          "19:52",
          "19:53",
          "19:54",
          "19:55",
          "19:56",
          "19:57",
          "19:58",
          "19:59",
          "20:00",
          "20:01",
          "20:02",
          "20:03",
          "20:04",
          "20:05",
          "20:06",
          "20:07",
          "20:08",
          "20:09",
          "20:10",
          "20:11",
          "20:12",
          "20:13",
          "20:14",
          "20:15",
          "20:16",
          "20:17",
          "20:18",
          "20:19",
          "20:20",
          "20:21",
          "20:22",
          "20:23",
          "20:24",
          "20:25",
          "20:26",
          "20:27",
          "20:28",
          "20:29",
          "20:30",
          "20:31",
          "20:32",
          "20:33",
          "20:34",
          "20:35",
          "20:36",
          "20:37",
          "20:38",
          "20:39",
          "20:40",
          "20:41",
          "20:42",
          "20:43",
          "20:44",
          "20:45",
          "20:46",
          "20:47",
          "20:48",
          "20:49",
          "20:50",
          "20:51",
          "20:52",
          "20:53",
          "20:54",
          "20:55",
          "20:56",
          "20:57",
          "20:58",
          "20:59",
          "21:00",
          "21:01",
          "21:02",
          "21:03",
          "21:04",
          "21:05",
          "21:06",
          "21:07",
          "21:08",
          "21:09",
          "21:10",
          "21:11",
          "21:12",
          "21:13",
          "21:14",
          "21:15",
          "21:16",
          "21:17",
          "21:18",
          "21:19",
          "21:20",
          "21:23",
          "21:24",
          "21:25",
          "21:26",
          "21:27",
          "21:28",
          "21:29",
          "21:30",
          "21:31",
          "21:32",
          "21:33",
          "21:34",
          "21:35",
          "21:36",
          "21:37",
          "21:38",
          "21:39",
          "21:40",
          "21:41",
          "21:42",
          "21:43",
          "21:44",
          "21:45",
          "21:46",
          "21:47",
          "21:48",
          "21:49",
          "21:51",
          "21:52",
          "21:53",
          "21:54",
          "21:55",
          "21:56",
          "21:57",
          "21:58",
          "21:59",
          "22:00",
          "22:01",
          "22:02",
          "22:03",
          "22:04",
          "22:05",
          "22:06",
          "22:07",
          "22:08",
          "22:09",
          "22:11",
          "22:12",
          "22:13",
          "22:14",
          "22:15",
          "22:17",
          "22:18",
          "22:20",
          "22:21",
          "22:22",
          "22:23",
          "22:24",
          "22:25",
          "22:26",
          "22:27",
          "22:28",
          "22:29",
          "22:30",
          "22:31",
          "22:32",
          "22:34",
          "22:35",
          "22:36",
          "22:37",
          "22:39",
          "22:40",
          "22:42",
          "22:43",
          "22:44",
          "22:45",
          "22:46",
          "22:47",
          "22:48",
          "22:49",
          "22:50",
          "22:51",
          "22:52",
          "22:53",
          "22:54",
          "22:55",
          "22:56",
          "22:57",
          "22:58",
          "22:59",
          "23:00",
          "23:01",
          "23:02",
          "23:03",
          "23:04",
          "23:05",
          "23:06",
          "23:07",
          "23:08",
          "23:09",
          "23:10",
          "23:11",
          "23:12",
          "23:13",
          "23:14",
          "23:15",
          "23:16",
          "23:17",
          "23:18",
          "23:19",
          "23:20",
          "23:21",
          "23:22",
          "23:23",
          "23:24",
          "23:25",
          "23:26",
          "23:27",
          "23:28",
          "23:29",
          "23:30",
          "23:31",
          "23:32",
          "23:33",
          "23:34",
          "23:35",
          "23:36",
          "23:37",
          "23:38",
          "23:39",
          "23:40",
          "23:41",
          "23:42",
          "23:43",
          "23:44",
          "23:56"
         ],
         "xaxis": "x",
         "y": [
          2,
          4,
          3,
          1,
          1,
          4,
          4,
          2,
          3,
          4,
          1,
          3,
          1,
          2,
          1,
          2,
          2,
          2,
          2,
          1,
          5,
          1,
          1,
          1,
          2,
          1,
          2,
          1,
          1,
          1,
          1,
          1,
          1,
          1,
          2,
          4,
          1,
          2,
          2,
          2,
          1,
          2,
          1,
          1,
          2,
          2,
          1,
          2,
          1,
          1,
          3,
          4,
          3,
          9,
          6,
          11,
          6,
          10,
          4,
          1,
          2,
          6,
          11,
          6,
          9,
          5,
          12,
          5,
          5,
          10,
          6,
          7,
          8,
          6,
          4,
          10,
          11,
          7,
          6,
          9,
          10,
          12,
          10,
          10,
          23,
          8,
          3,
          3,
          14,
          5,
          7,
          1,
          2,
          4,
          4,
          14,
          5,
          2,
          5,
          5,
          8,
          1,
          3,
          12,
          4,
          12,
          12,
          11,
          5,
          3,
          2,
          4,
          12,
          8,
          13,
          10,
          13,
          6,
          3,
          6,
          2,
          3,
          14,
          10,
          3,
          2,
          1,
          3,
          5,
          3,
          2,
          3,
          1,
          1,
          1,
          3,
          1,
          2,
          1,
          3,
          1,
          5,
          3,
          4,
          6,
          1,
          1,
          3,
          3,
          2,
          1,
          3,
          2,
          3,
          1,
          4,
          2,
          1,
          3,
          1,
          1,
          8,
          2,
          6,
          6,
          6,
          5,
          1,
          1,
          1,
          1,
          1,
          1,
          2,
          2,
          1,
          2,
          7,
          3,
          9,
          14,
          6,
          1,
          4,
          1,
          9,
          6,
          2,
          3,
          3,
          4,
          4,
          5,
          7,
          2,
          2,
          2,
          2,
          2,
          4,
          1,
          2,
          1,
          3,
          5,
          6,
          1,
          1,
          6,
          1,
          2,
          4,
          2,
          3,
          4,
          6,
          2,
          1,
          2,
          1,
          4,
          3,
          8,
          3,
          8,
          2,
          1,
          3,
          2,
          1,
          2,
          1,
          1,
          3,
          3,
          4,
          1,
          2,
          6,
          3,
          5,
          2,
          4,
          2,
          1,
          5,
          5,
          7,
          1,
          5,
          6,
          5,
          16,
          8,
          3,
          6,
          6,
          4,
          6,
          5,
          10,
          10,
          8,
          9,
          14,
          3,
          7,
          8,
          19,
          12,
          12,
          6,
          7,
          3,
          3,
          1,
          5,
          4,
          1,
          2,
          5,
          5,
          4,
          1,
          1,
          7,
          6,
          2,
          2,
          4,
          4,
          4,
          3,
          5,
          2,
          1,
          2,
          3,
          6,
          1,
          1,
          1,
          4,
          10,
          6,
          7,
          1,
          1,
          1,
          1,
          2,
          2,
          4,
          2,
          1,
          4,
          2,
          1,
          3,
          1,
          1,
          1,
          1,
          1,
          1,
          4,
          2,
          2,
          1,
          5,
          1,
          1,
          2,
          7,
          2,
          2,
          1,
          1,
          1,
          2,
          1,
          3,
          4,
          1,
          1,
          1,
          3,
          1,
          1,
          3,
          5,
          3,
          7,
          1,
          2,
          3,
          2,
          4,
          1,
          1,
          2,
          2,
          1,
          3,
          2,
          1,
          9,
          4,
          1,
          2,
          1,
          2,
          2,
          1,
          2,
          2,
          1,
          1,
          1,
          2,
          1,
          1,
          1,
          1,
          1,
          1,
          2,
          4,
          1,
          4,
          3,
          1,
          7,
          7,
          11,
          4,
          2,
          13,
          6,
          4,
          13,
          12,
          10,
          4,
          4,
          9,
          11,
          3,
          3,
          17,
          14,
          12,
          6,
          14,
          3,
          3,
          10,
          6,
          11,
          4,
          9,
          4,
          12,
          12,
          7,
          10,
          7,
          5,
          9,
          8,
          14,
          10,
          22,
          31,
          30,
          18,
          18,
          14,
          6,
          2,
          4,
          6,
          11,
          16,
          8,
          8,
          4,
          3,
          12,
          8,
          3,
          4,
          12,
          10,
          6,
          2,
          5,
          6,
          2,
          6,
          9,
          8,
          7,
          5,
          1,
          3,
          1,
          3,
          4,
          7,
          2,
          12,
          8,
          1,
          13,
          12,
          9,
          7,
          12,
          1,
          6,
          1,
          3,
          2,
          4,
          10,
          15,
          13,
          12,
          12,
          10,
          8,
          16,
          12,
          12,
          26,
          6,
          13,
          7,
          16,
          11,
          12,
          9,
          9,
          2,
          13,
          9,
          11,
          11,
          11,
          11,
          6,
          4,
          6,
          1,
          3,
          3,
          4,
          2,
          1,
          6,
          7,
          9,
          8,
          5,
          4,
          10,
          9,
          17,
          8,
          11,
          4,
          11,
          7,
          9,
          12,
          9,
          15,
          9,
          8,
          8,
          8,
          7,
          6,
          2,
          1,
          1,
          4,
          2,
          1,
          1,
          6,
          8,
          3,
          3,
          1,
          3,
          4,
          10,
          13,
          1,
          4,
          2,
          6,
          4,
          4,
          4,
          7,
          9,
          5,
          22,
          14,
          6,
          5,
          5,
          13,
          5,
          1,
          2,
          5,
          2,
          7,
          13,
          6,
          6,
          3,
          3,
          13,
          8,
          12,
          4,
          8,
          13,
          4,
          8,
          2,
          2,
          3,
          3,
          4,
          7,
          11,
          10,
          6,
          2,
          5,
          9,
          2,
          5,
          12,
          11,
          19,
          5,
          5,
          10,
          12,
          5,
          10,
          5,
          1,
          4,
          5,
          4,
          2,
          5,
          9,
          4,
          14,
          15,
          7,
          3,
          4,
          9,
          21,
          13,
          30,
          15,
          11,
          13,
          9,
          7,
          18,
          18,
          13,
          8,
          14,
          3,
          12,
          8,
          11,
          10,
          9,
          12,
          4,
          9,
          12,
          4,
          3,
          13,
          8,
          16,
          2,
          14,
          11,
          9,
          19,
          3,
          1,
          6,
          9,
          1,
          1,
          6,
          2,
          10,
          8,
          8,
          9,
          14,
          7,
          11,
          4,
          7,
          3,
          1,
          7,
          2,
          1,
          1
         ],
         "yaxis": "y"
        }
       ],
       "layout": {
        "barmode": "relative",
        "height": 400,
        "legend": {
         "tracegroupgap": 0
        },
        "margin": {
         "t": 60
        },
        "template": {
         "data": {
          "bar": [
           {
            "error_x": {
             "color": "#2a3f5f"
            },
            "error_y": {
             "color": "#2a3f5f"
            },
            "marker": {
             "line": {
              "color": "#E5ECF6",
              "width": 0.5
             }
            },
            "type": "bar"
           }
          ],
          "barpolar": [
           {
            "marker": {
             "line": {
              "color": "#E5ECF6",
              "width": 0.5
             }
            },
            "type": "barpolar"
           }
          ],
          "carpet": [
           {
            "aaxis": {
             "endlinecolor": "#2a3f5f",
             "gridcolor": "white",
             "linecolor": "white",
             "minorgridcolor": "white",
             "startlinecolor": "#2a3f5f"
            },
            "baxis": {
             "endlinecolor": "#2a3f5f",
             "gridcolor": "white",
             "linecolor": "white",
             "minorgridcolor": "white",
             "startlinecolor": "#2a3f5f"
            },
            "type": "carpet"
           }
          ],
          "choropleth": [
           {
            "colorbar": {
             "outlinewidth": 0,
             "ticks": ""
            },
            "type": "choropleth"
           }
          ],
          "contour": [
           {
            "colorbar": {
             "outlinewidth": 0,
             "ticks": ""
            },
            "colorscale": [
             [
              0,
              "#0d0887"
             ],
             [
              0.1111111111111111,
              "#46039f"
             ],
             [
              0.2222222222222222,
              "#7201a8"
             ],
             [
              0.3333333333333333,
              "#9c179e"
             ],
             [
              0.4444444444444444,
              "#bd3786"
             ],
             [
              0.5555555555555556,
              "#d8576b"
             ],
             [
              0.6666666666666666,
              "#ed7953"
             ],
             [
              0.7777777777777778,
              "#fb9f3a"
             ],
             [
              0.8888888888888888,
              "#fdca26"
             ],
             [
              1,
              "#f0f921"
             ]
            ],
            "type": "contour"
           }
          ],
          "contourcarpet": [
           {
            "colorbar": {
             "outlinewidth": 0,
             "ticks": ""
            },
            "type": "contourcarpet"
           }
          ],
          "heatmap": [
           {
            "colorbar": {
             "outlinewidth": 0,
             "ticks": ""
            },
            "colorscale": [
             [
              0,
              "#0d0887"
             ],
             [
              0.1111111111111111,
              "#46039f"
             ],
             [
              0.2222222222222222,
              "#7201a8"
             ],
             [
              0.3333333333333333,
              "#9c179e"
             ],
             [
              0.4444444444444444,
              "#bd3786"
             ],
             [
              0.5555555555555556,
              "#d8576b"
             ],
             [
              0.6666666666666666,
              "#ed7953"
             ],
             [
              0.7777777777777778,
              "#fb9f3a"
             ],
             [
              0.8888888888888888,
              "#fdca26"
             ],
             [
              1,
              "#f0f921"
             ]
            ],
            "type": "heatmap"
           }
          ],
          "heatmapgl": [
           {
            "colorbar": {
             "outlinewidth": 0,
             "ticks": ""
            },
            "colorscale": [
             [
              0,
              "#0d0887"
             ],
             [
              0.1111111111111111,
              "#46039f"
             ],
             [
              0.2222222222222222,
              "#7201a8"
             ],
             [
              0.3333333333333333,
              "#9c179e"
             ],
             [
              0.4444444444444444,
              "#bd3786"
             ],
             [
              0.5555555555555556,
              "#d8576b"
             ],
             [
              0.6666666666666666,
              "#ed7953"
             ],
             [
              0.7777777777777778,
              "#fb9f3a"
             ],
             [
              0.8888888888888888,
              "#fdca26"
             ],
             [
              1,
              "#f0f921"
             ]
            ],
            "type": "heatmapgl"
           }
          ],
          "histogram": [
           {
            "marker": {
             "colorbar": {
              "outlinewidth": 0,
              "ticks": ""
             }
            },
            "type": "histogram"
           }
          ],
          "histogram2d": [
           {
            "colorbar": {
             "outlinewidth": 0,
             "ticks": ""
            },
            "colorscale": [
             [
              0,
              "#0d0887"
             ],
             [
              0.1111111111111111,
              "#46039f"
             ],
             [
              0.2222222222222222,
              "#7201a8"
             ],
             [
              0.3333333333333333,
              "#9c179e"
             ],
             [
              0.4444444444444444,
              "#bd3786"
             ],
             [
              0.5555555555555556,
              "#d8576b"
             ],
             [
              0.6666666666666666,
              "#ed7953"
             ],
             [
              0.7777777777777778,
              "#fb9f3a"
             ],
             [
              0.8888888888888888,
              "#fdca26"
             ],
             [
              1,
              "#f0f921"
             ]
            ],
            "type": "histogram2d"
           }
          ],
          "histogram2dcontour": [
           {
            "colorbar": {
             "outlinewidth": 0,
             "ticks": ""
            },
            "colorscale": [
             [
              0,
              "#0d0887"
             ],
             [
              0.1111111111111111,
              "#46039f"
             ],
             [
              0.2222222222222222,
              "#7201a8"
             ],
             [
              0.3333333333333333,
              "#9c179e"
             ],
             [
              0.4444444444444444,
              "#bd3786"
             ],
             [
              0.5555555555555556,
              "#d8576b"
             ],
             [
              0.6666666666666666,
              "#ed7953"
             ],
             [
              0.7777777777777778,
              "#fb9f3a"
             ],
             [
              0.8888888888888888,
              "#fdca26"
             ],
             [
              1,
              "#f0f921"
             ]
            ],
            "type": "histogram2dcontour"
           }
          ],
          "mesh3d": [
           {
            "colorbar": {
             "outlinewidth": 0,
             "ticks": ""
            },
            "type": "mesh3d"
           }
          ],
          "parcoords": [
           {
            "line": {
             "colorbar": {
              "outlinewidth": 0,
              "ticks": ""
             }
            },
            "type": "parcoords"
           }
          ],
          "pie": [
           {
            "automargin": true,
            "type": "pie"
           }
          ],
          "scatter": [
           {
            "marker": {
             "colorbar": {
              "outlinewidth": 0,
              "ticks": ""
             }
            },
            "type": "scatter"
           }
          ],
          "scatter3d": [
           {
            "line": {
             "colorbar": {
              "outlinewidth": 0,
              "ticks": ""
             }
            },
            "marker": {
             "colorbar": {
              "outlinewidth": 0,
              "ticks": ""
             }
            },
            "type": "scatter3d"
           }
          ],
          "scattercarpet": [
           {
            "marker": {
             "colorbar": {
              "outlinewidth": 0,
              "ticks": ""
             }
            },
            "type": "scattercarpet"
           }
          ],
          "scattergeo": [
           {
            "marker": {
             "colorbar": {
              "outlinewidth": 0,
              "ticks": ""
             }
            },
            "type": "scattergeo"
           }
          ],
          "scattergl": [
           {
            "marker": {
             "colorbar": {
              "outlinewidth": 0,
              "ticks": ""
             }
            },
            "type": "scattergl"
           }
          ],
          "scattermapbox": [
           {
            "marker": {
             "colorbar": {
              "outlinewidth": 0,
              "ticks": ""
             }
            },
            "type": "scattermapbox"
           }
          ],
          "scatterpolar": [
           {
            "marker": {
             "colorbar": {
              "outlinewidth": 0,
              "ticks": ""
             }
            },
            "type": "scatterpolar"
           }
          ],
          "scatterpolargl": [
           {
            "marker": {
             "colorbar": {
              "outlinewidth": 0,
              "ticks": ""
             }
            },
            "type": "scatterpolargl"
           }
          ],
          "scatterternary": [
           {
            "marker": {
             "colorbar": {
              "outlinewidth": 0,
              "ticks": ""
             }
            },
            "type": "scatterternary"
           }
          ],
          "surface": [
           {
            "colorbar": {
             "outlinewidth": 0,
             "ticks": ""
            },
            "colorscale": [
             [
              0,
              "#0d0887"
             ],
             [
              0.1111111111111111,
              "#46039f"
             ],
             [
              0.2222222222222222,
              "#7201a8"
             ],
             [
              0.3333333333333333,
              "#9c179e"
             ],
             [
              0.4444444444444444,
              "#bd3786"
             ],
             [
              0.5555555555555556,
              "#d8576b"
             ],
             [
              0.6666666666666666,
              "#ed7953"
             ],
             [
              0.7777777777777778,
              "#fb9f3a"
             ],
             [
              0.8888888888888888,
              "#fdca26"
             ],
             [
              1,
              "#f0f921"
             ]
            ],
            "type": "surface"
           }
          ],
          "table": [
           {
            "cells": {
             "fill": {
              "color": "#EBF0F8"
             },
             "line": {
              "color": "white"
             }
            },
            "header": {
             "fill": {
              "color": "#C8D4E3"
             },
             "line": {
              "color": "white"
             }
            },
            "type": "table"
           }
          ]
         },
         "layout": {
          "annotationdefaults": {
           "arrowcolor": "#2a3f5f",
           "arrowhead": 0,
           "arrowwidth": 1
          },
          "autotypenumbers": "strict",
          "coloraxis": {
           "colorbar": {
            "outlinewidth": 0,
            "ticks": ""
           }
          },
          "colorscale": {
           "diverging": [
            [
             0,
             "#8e0152"
            ],
            [
             0.1,
             "#c51b7d"
            ],
            [
             0.2,
             "#de77ae"
            ],
            [
             0.3,
             "#f1b6da"
            ],
            [
             0.4,
             "#fde0ef"
            ],
            [
             0.5,
             "#f7f7f7"
            ],
            [
             0.6,
             "#e6f5d0"
            ],
            [
             0.7,
             "#b8e186"
            ],
            [
             0.8,
             "#7fbc41"
            ],
            [
             0.9,
             "#4d9221"
            ],
            [
             1,
             "#276419"
            ]
           ],
           "sequential": [
            [
             0,
             "#0d0887"
            ],
            [
             0.1111111111111111,
             "#46039f"
            ],
            [
             0.2222222222222222,
             "#7201a8"
            ],
            [
             0.3333333333333333,
             "#9c179e"
            ],
            [
             0.4444444444444444,
             "#bd3786"
            ],
            [
             0.5555555555555556,
             "#d8576b"
            ],
            [
             0.6666666666666666,
             "#ed7953"
            ],
            [
             0.7777777777777778,
             "#fb9f3a"
            ],
            [
             0.8888888888888888,
             "#fdca26"
            ],
            [
             1,
             "#f0f921"
            ]
           ],
           "sequentialminus": [
            [
             0,
             "#0d0887"
            ],
            [
             0.1111111111111111,
             "#46039f"
            ],
            [
             0.2222222222222222,
             "#7201a8"
            ],
            [
             0.3333333333333333,
             "#9c179e"
            ],
            [
             0.4444444444444444,
             "#bd3786"
            ],
            [
             0.5555555555555556,
             "#d8576b"
            ],
            [
             0.6666666666666666,
             "#ed7953"
            ],
            [
             0.7777777777777778,
             "#fb9f3a"
            ],
            [
             0.8888888888888888,
             "#fdca26"
            ],
            [
             1,
             "#f0f921"
            ]
           ]
          },
          "colorway": [
           "#636efa",
           "#EF553B",
           "#00cc96",
           "#ab63fa",
           "#FFA15A",
           "#19d3f3",
           "#FF6692",
           "#B6E880",
           "#FF97FF",
           "#FECB52"
          ],
          "font": {
           "color": "#2a3f5f"
          },
          "geo": {
           "bgcolor": "white",
           "lakecolor": "white",
           "landcolor": "#E5ECF6",
           "showlakes": true,
           "showland": true,
           "subunitcolor": "white"
          },
          "hoverlabel": {
           "align": "left"
          },
          "hovermode": "closest",
          "mapbox": {
           "style": "light"
          },
          "paper_bgcolor": "white",
          "plot_bgcolor": "#E5ECF6",
          "polar": {
           "angularaxis": {
            "gridcolor": "white",
            "linecolor": "white",
            "ticks": ""
           },
           "bgcolor": "#E5ECF6",
           "radialaxis": {
            "gridcolor": "white",
            "linecolor": "white",
            "ticks": ""
           }
          },
          "scene": {
           "xaxis": {
            "backgroundcolor": "#E5ECF6",
            "gridcolor": "white",
            "gridwidth": 2,
            "linecolor": "white",
            "showbackground": true,
            "ticks": "",
            "zerolinecolor": "white"
           },
           "yaxis": {
            "backgroundcolor": "#E5ECF6",
            "gridcolor": "white",
            "gridwidth": 2,
            "linecolor": "white",
            "showbackground": true,
            "ticks": "",
            "zerolinecolor": "white"
           },
           "zaxis": {
            "backgroundcolor": "#E5ECF6",
            "gridcolor": "white",
            "gridwidth": 2,
            "linecolor": "white",
            "showbackground": true,
            "ticks": "",
            "zerolinecolor": "white"
           }
          },
          "shapedefaults": {
           "line": {
            "color": "#2a3f5f"
           }
          },
          "ternary": {
           "aaxis": {
            "gridcolor": "white",
            "linecolor": "white",
            "ticks": ""
           },
           "baxis": {
            "gridcolor": "white",
            "linecolor": "white",
            "ticks": ""
           },
           "bgcolor": "#E5ECF6",
           "caxis": {
            "gridcolor": "white",
            "linecolor": "white",
            "ticks": ""
           }
          },
          "title": {
           "x": 0.05
          },
          "xaxis": {
           "automargin": true,
           "gridcolor": "white",
           "linecolor": "white",
           "ticks": "",
           "title": {
            "standoff": 15
           },
           "zerolinecolor": "white",
           "zerolinewidth": 2
          },
          "yaxis": {
           "automargin": true,
           "gridcolor": "white",
           "linecolor": "white",
           "ticks": "",
           "title": {
            "standoff": 15
           },
           "zerolinecolor": "white",
           "zerolinewidth": 2
          }
         }
        },
        "title": {
         "text": "TOTAL DE MENSAGEM POR HORA"
        },
        "xaxis": {
         "anchor": "y",
         "domain": [
          0,
          1
         ],
         "title": {
          "text": "hora"
         }
        },
        "yaxis": {
         "anchor": "x",
         "domain": [
          0,
          1
         ],
         "title": {
          "text": "count"
         }
        }
       }
      },
      "text/html": [
       "<div>                            <div id=\"70f3a998-96fb-40b9-b892-8b861b73d02a\" class=\"plotly-graph-div\" style=\"height:400px; width:100%;\"></div>            <script type=\"text/javascript\">                require([\"plotly\"], function(Plotly) {                    window.PLOTLYENV=window.PLOTLYENV || {};                                    if (document.getElementById(\"70f3a998-96fb-40b9-b892-8b861b73d02a\")) {                    Plotly.newPlot(                        \"70f3a998-96fb-40b9-b892-8b861b73d02a\",                        [{\"alignmentgroup\": \"True\", \"hovertemplate\": \"hora=%{x}<br>count=%{y}<extra></extra>\", \"legendgroup\": \"\", \"marker\": {\"color\": \"# EDCC8B\", \"line\": {\"color\": \"#D4A29C\", \"width\": 1.5}}, \"name\": \"\", \"offsetgroup\": \"\", \"opacity\": 0.6, \"orientation\": \"v\", \"showlegend\": false, \"textposition\": \"auto\", \"type\": \"bar\", \"x\": [\"00:02\", \"00:16\", \"00:17\", \"00:18\", \"00:19\", \"00:23\", \"00:24\", \"00:25\", \"00:26\", \"00:31\", \"00:33\", \"00:35\", \"00:36\", \"00:37\", \"00:41\", \"00:42\", \"00:46\", \"00:52\", \"01:08\", \"01:18\", \"01:27\", \"01:35\", \"06:05\", \"06:06\", \"06:35\", \"06:37\", \"07:04\", \"07:08\", \"07:09\", \"07:18\", \"07:20\", \"07:45\", \"08:19\", \"08:20\", \"08:22\", \"08:25\", \"08:30\", \"08:32\", \"08:33\", \"08:37\", \"08:52\", \"09:01\", \"09:04\", \"09:16\", \"09:34\", \"09:40\", \"09:41\", \"09:42\", \"09:43\", \"09:44\", \"09:45\", \"09:46\", \"09:47\", \"09:48\", \"09:49\", \"09:50\", \"09:51\", \"09:52\", \"09:53\", \"09:54\", \"09:55\", \"09:56\", \"09:57\", \"09:58\", \"09:59\", \"10:00\", \"10:01\", \"10:02\", \"10:03\", \"10:04\", \"10:05\", \"10:06\", \"10:07\", \"10:08\", \"10:09\", \"10:10\", \"10:11\", \"10:12\", \"10:13\", \"10:14\", \"10:15\", \"10:16\", \"10:17\", \"10:18\", \"10:19\", \"10:20\", \"10:21\", \"10:22\", \"10:23\", \"10:24\", \"10:25\", \"10:27\", \"10:28\", \"10:29\", \"10:30\", \"10:31\", \"10:32\", \"10:34\", \"10:35\", \"10:36\", \"10:37\", \"10:38\", \"10:39\", \"10:40\", \"10:41\", \"10:42\", \"10:43\", \"10:44\", \"10:45\", \"10:46\", \"10:49\", \"10:50\", \"10:51\", \"10:52\", \"10:53\", \"10:54\", \"10:55\", \"10:56\", \"10:57\", \"10:58\", \"10:59\", \"11:00\", \"11:01\", \"11:02\", \"11:03\", \"11:04\", \"11:05\", \"11:06\", \"11:07\", \"11:08\", \"11:09\", \"11:10\", \"11:11\", \"11:12\", \"11:13\", \"11:14\", \"11:17\", \"11:18\", \"11:20\", \"11:21\", \"11:22\", \"11:23\", \"11:24\", \"11:25\", \"11:26\", \"11:27\", \"11:29\", \"11:31\", \"11:32\", \"11:33\", \"11:34\", \"11:35\", \"11:36\", \"11:37\", \"11:38\", \"11:41\", \"11:42\", \"11:43\", \"11:44\", \"11:45\", \"11:46\", \"11:47\", \"11:48\", \"11:49\", \"11:50\", \"11:51\", \"11:52\", \"11:53\", \"11:54\", \"11:58\", \"12:05\", \"12:06\", \"12:07\", \"12:08\", \"12:13\", \"12:15\", \"12:18\", \"12:22\", \"12:23\", \"12:24\", \"12:25\", \"12:26\", \"12:27\", \"12:28\", \"12:29\", \"12:30\", \"12:31\", \"12:33\", \"12:34\", \"12:35\", \"12:36\", \"12:37\", \"12:38\", \"12:39\", \"12:40\", \"12:41\", \"12:42\", \"12:44\", \"12:47\", \"12:48\", \"12:51\", \"12:54\", \"12:56\", \"12:57\", \"12:58\", \"13:00\", \"13:02\", \"13:03\", \"13:04\", \"13:05\", \"13:09\", \"13:10\", \"13:11\", \"13:12\", \"13:13\", \"13:14\", \"13:15\", \"13:16\", \"13:18\", \"13:22\", \"13:23\", \"13:24\", \"13:26\", \"13:27\", \"13:29\", \"13:30\", \"13:31\", \"13:32\", \"13:33\", \"13:35\", \"13:36\", \"13:38\", \"13:39\", \"13:42\", \"13:46\", \"13:47\", \"13:48\", \"13:50\", \"13:51\", \"13:52\", \"13:54\", \"13:56\", \"13:57\", \"13:58\", \"13:59\", \"14:00\", \"14:01\", \"14:02\", \"14:03\", \"14:05\", \"14:06\", \"14:07\", \"14:08\", \"14:10\", \"14:11\", \"14:12\", \"14:13\", \"14:14\", \"14:15\", \"14:16\", \"14:17\", \"14:18\", \"14:19\", \"14:20\", \"14:21\", \"14:22\", \"14:23\", \"14:24\", \"14:25\", \"14:26\", \"14:27\", \"14:28\", \"14:29\", \"14:30\", \"14:31\", \"14:32\", \"14:33\", \"14:34\", \"14:35\", \"14:36\", \"14:37\", \"14:38\", \"14:40\", \"14:41\", \"14:42\", \"14:46\", \"14:47\", \"14:48\", \"14:49\", \"14:50\", \"14:51\", \"14:53\", \"14:55\", \"14:56\", \"14:57\", \"15:00\", \"15:02\", \"15:04\", \"15:06\", \"15:09\", \"15:25\", \"15:26\", \"15:27\", \"15:28\", \"15:29\", \"15:30\", \"15:31\", \"15:33\", \"15:36\", \"15:44\", \"15:45\", \"15:46\", \"15:47\", \"15:49\", \"15:52\", \"15:54\", \"15:59\", \"16:04\", \"16:07\", \"16:08\", \"16:09\", \"16:10\", \"16:11\", \"16:12\", \"16:15\", \"16:16\", \"16:17\", \"16:19\", \"16:21\", \"16:23\", \"16:24\", \"16:25\", \"16:26\", \"16:27\", \"16:28\", \"16:30\", \"16:33\", \"16:35\", \"16:37\", \"16:38\", \"16:45\", \"16:49\", \"16:50\", \"16:52\", \"16:53\", \"16:57\", \"16:58\", \"16:59\", \"17:00\", \"17:01\", \"17:02\", \"17:03\", \"17:04\", \"17:10\", \"17:11\", \"17:12\", \"17:13\", \"17:14\", \"17:15\", \"17:18\", \"17:20\", \"17:24\", \"17:25\", \"17:27\", \"17:28\", \"17:37\", \"17:42\", \"17:43\", \"17:44\", \"17:46\", \"17:55\", \"17:56\", \"17:57\", \"17:58\", \"18:01\", \"18:07\", \"18:08\", \"18:10\", \"18:11\", \"18:14\", \"18:16\", \"18:20\", \"18:21\", \"18:22\", \"18:23\", \"18:26\", \"18:27\", \"18:28\", \"18:30\", \"18:31\", \"18:33\", \"18:34\", \"18:35\", \"18:36\", \"18:37\", \"18:38\", \"18:39\", \"18:41\", \"18:42\", \"18:43\", \"18:44\", \"18:45\", \"18:46\", \"18:47\", \"18:48\", \"18:49\", \"18:50\", \"18:51\", \"18:52\", \"18:53\", \"18:54\", \"18:55\", \"18:56\", \"18:57\", \"18:58\", \"18:59\", \"19:00\", \"19:01\", \"19:02\", \"19:03\", \"19:04\", \"19:05\", \"19:06\", \"19:07\", \"19:08\", \"19:09\", \"19:10\", \"19:11\", \"19:12\", \"19:13\", \"19:14\", \"19:15\", \"19:16\", \"19:17\", \"19:18\", \"19:19\", \"19:20\", \"19:21\", \"19:22\", \"19:23\", \"19:24\", \"19:25\", \"19:26\", \"19:27\", \"19:28\", \"19:29\", \"19:30\", \"19:31\", \"19:32\", \"19:33\", \"19:34\", \"19:38\", \"19:39\", \"19:40\", \"19:41\", \"19:42\", \"19:43\", \"19:44\", \"19:45\", \"19:46\", \"19:47\", \"19:48\", \"19:49\", \"19:50\", \"19:52\", \"19:53\", \"19:54\", \"19:55\", \"19:56\", \"19:57\", \"19:58\", \"19:59\", \"20:00\", \"20:01\", \"20:02\", \"20:03\", \"20:04\", \"20:05\", \"20:06\", \"20:07\", \"20:08\", \"20:09\", \"20:10\", \"20:11\", \"20:12\", \"20:13\", \"20:14\", \"20:15\", \"20:16\", \"20:17\", \"20:18\", \"20:19\", \"20:20\", \"20:21\", \"20:22\", \"20:23\", \"20:24\", \"20:25\", \"20:26\", \"20:27\", \"20:28\", \"20:29\", \"20:30\", \"20:31\", \"20:32\", \"20:33\", \"20:34\", \"20:35\", \"20:36\", \"20:37\", \"20:38\", \"20:39\", \"20:40\", \"20:41\", \"20:42\", \"20:43\", \"20:44\", \"20:45\", \"20:46\", \"20:47\", \"20:48\", \"20:49\", \"20:50\", \"20:51\", \"20:52\", \"20:53\", \"20:54\", \"20:55\", \"20:56\", \"20:57\", \"20:58\", \"20:59\", \"21:00\", \"21:01\", \"21:02\", \"21:03\", \"21:04\", \"21:05\", \"21:06\", \"21:07\", \"21:08\", \"21:09\", \"21:10\", \"21:11\", \"21:12\", \"21:13\", \"21:14\", \"21:15\", \"21:16\", \"21:17\", \"21:18\", \"21:19\", \"21:20\", \"21:23\", \"21:24\", \"21:25\", \"21:26\", \"21:27\", \"21:28\", \"21:29\", \"21:30\", \"21:31\", \"21:32\", \"21:33\", \"21:34\", \"21:35\", \"21:36\", \"21:37\", \"21:38\", \"21:39\", \"21:40\", \"21:41\", \"21:42\", \"21:43\", \"21:44\", \"21:45\", \"21:46\", \"21:47\", \"21:48\", \"21:49\", \"21:51\", \"21:52\", \"21:53\", \"21:54\", \"21:55\", \"21:56\", \"21:57\", \"21:58\", \"21:59\", \"22:00\", \"22:01\", \"22:02\", \"22:03\", \"22:04\", \"22:05\", \"22:06\", \"22:07\", \"22:08\", \"22:09\", \"22:11\", \"22:12\", \"22:13\", \"22:14\", \"22:15\", \"22:17\", \"22:18\", \"22:20\", \"22:21\", \"22:22\", \"22:23\", \"22:24\", \"22:25\", \"22:26\", \"22:27\", \"22:28\", \"22:29\", \"22:30\", \"22:31\", \"22:32\", \"22:34\", \"22:35\", \"22:36\", \"22:37\", \"22:39\", \"22:40\", \"22:42\", \"22:43\", \"22:44\", \"22:45\", \"22:46\", \"22:47\", \"22:48\", \"22:49\", \"22:50\", \"22:51\", \"22:52\", \"22:53\", \"22:54\", \"22:55\", \"22:56\", \"22:57\", \"22:58\", \"22:59\", \"23:00\", \"23:01\", \"23:02\", \"23:03\", \"23:04\", \"23:05\", \"23:06\", \"23:07\", \"23:08\", \"23:09\", \"23:10\", \"23:11\", \"23:12\", \"23:13\", \"23:14\", \"23:15\", \"23:16\", \"23:17\", \"23:18\", \"23:19\", \"23:20\", \"23:21\", \"23:22\", \"23:23\", \"23:24\", \"23:25\", \"23:26\", \"23:27\", \"23:28\", \"23:29\", \"23:30\", \"23:31\", \"23:32\", \"23:33\", \"23:34\", \"23:35\", \"23:36\", \"23:37\", \"23:38\", \"23:39\", \"23:40\", \"23:41\", \"23:42\", \"23:43\", \"23:44\", \"23:56\"], \"xaxis\": \"x\", \"y\": [2, 4, 3, 1, 1, 4, 4, 2, 3, 4, 1, 3, 1, 2, 1, 2, 2, 2, 2, 1, 5, 1, 1, 1, 2, 1, 2, 1, 1, 1, 1, 1, 1, 1, 2, 4, 1, 2, 2, 2, 1, 2, 1, 1, 2, 2, 1, 2, 1, 1, 3, 4, 3, 9, 6, 11, 6, 10, 4, 1, 2, 6, 11, 6, 9, 5, 12, 5, 5, 10, 6, 7, 8, 6, 4, 10, 11, 7, 6, 9, 10, 12, 10, 10, 23, 8, 3, 3, 14, 5, 7, 1, 2, 4, 4, 14, 5, 2, 5, 5, 8, 1, 3, 12, 4, 12, 12, 11, 5, 3, 2, 4, 12, 8, 13, 10, 13, 6, 3, 6, 2, 3, 14, 10, 3, 2, 1, 3, 5, 3, 2, 3, 1, 1, 1, 3, 1, 2, 1, 3, 1, 5, 3, 4, 6, 1, 1, 3, 3, 2, 1, 3, 2, 3, 1, 4, 2, 1, 3, 1, 1, 8, 2, 6, 6, 6, 5, 1, 1, 1, 1, 1, 1, 2, 2, 1, 2, 7, 3, 9, 14, 6, 1, 4, 1, 9, 6, 2, 3, 3, 4, 4, 5, 7, 2, 2, 2, 2, 2, 4, 1, 2, 1, 3, 5, 6, 1, 1, 6, 1, 2, 4, 2, 3, 4, 6, 2, 1, 2, 1, 4, 3, 8, 3, 8, 2, 1, 3, 2, 1, 2, 1, 1, 3, 3, 4, 1, 2, 6, 3, 5, 2, 4, 2, 1, 5, 5, 7, 1, 5, 6, 5, 16, 8, 3, 6, 6, 4, 6, 5, 10, 10, 8, 9, 14, 3, 7, 8, 19, 12, 12, 6, 7, 3, 3, 1, 5, 4, 1, 2, 5, 5, 4, 1, 1, 7, 6, 2, 2, 4, 4, 4, 3, 5, 2, 1, 2, 3, 6, 1, 1, 1, 4, 10, 6, 7, 1, 1, 1, 1, 2, 2, 4, 2, 1, 4, 2, 1, 3, 1, 1, 1, 1, 1, 1, 4, 2, 2, 1, 5, 1, 1, 2, 7, 2, 2, 1, 1, 1, 2, 1, 3, 4, 1, 1, 1, 3, 1, 1, 3, 5, 3, 7, 1, 2, 3, 2, 4, 1, 1, 2, 2, 1, 3, 2, 1, 9, 4, 1, 2, 1, 2, 2, 1, 2, 2, 1, 1, 1, 2, 1, 1, 1, 1, 1, 1, 2, 4, 1, 4, 3, 1, 7, 7, 11, 4, 2, 13, 6, 4, 13, 12, 10, 4, 4, 9, 11, 3, 3, 17, 14, 12, 6, 14, 3, 3, 10, 6, 11, 4, 9, 4, 12, 12, 7, 10, 7, 5, 9, 8, 14, 10, 22, 31, 30, 18, 18, 14, 6, 2, 4, 6, 11, 16, 8, 8, 4, 3, 12, 8, 3, 4, 12, 10, 6, 2, 5, 6, 2, 6, 9, 8, 7, 5, 1, 3, 1, 3, 4, 7, 2, 12, 8, 1, 13, 12, 9, 7, 12, 1, 6, 1, 3, 2, 4, 10, 15, 13, 12, 12, 10, 8, 16, 12, 12, 26, 6, 13, 7, 16, 11, 12, 9, 9, 2, 13, 9, 11, 11, 11, 11, 6, 4, 6, 1, 3, 3, 4, 2, 1, 6, 7, 9, 8, 5, 4, 10, 9, 17, 8, 11, 4, 11, 7, 9, 12, 9, 15, 9, 8, 8, 8, 7, 6, 2, 1, 1, 4, 2, 1, 1, 6, 8, 3, 3, 1, 3, 4, 10, 13, 1, 4, 2, 6, 4, 4, 4, 7, 9, 5, 22, 14, 6, 5, 5, 13, 5, 1, 2, 5, 2, 7, 13, 6, 6, 3, 3, 13, 8, 12, 4, 8, 13, 4, 8, 2, 2, 3, 3, 4, 7, 11, 10, 6, 2, 5, 9, 2, 5, 12, 11, 19, 5, 5, 10, 12, 5, 10, 5, 1, 4, 5, 4, 2, 5, 9, 4, 14, 15, 7, 3, 4, 9, 21, 13, 30, 15, 11, 13, 9, 7, 18, 18, 13, 8, 14, 3, 12, 8, 11, 10, 9, 12, 4, 9, 12, 4, 3, 13, 8, 16, 2, 14, 11, 9, 19, 3, 1, 6, 9, 1, 1, 6, 2, 10, 8, 8, 9, 14, 7, 11, 4, 7, 3, 1, 7, 2, 1, 1], \"yaxis\": \"y\"}],                        {\"barmode\": \"relative\", \"height\": 400, \"legend\": {\"tracegroupgap\": 0}, \"margin\": {\"t\": 60}, \"template\": {\"data\": {\"bar\": [{\"error_x\": {\"color\": \"#2a3f5f\"}, \"error_y\": {\"color\": \"#2a3f5f\"}, \"marker\": {\"line\": {\"color\": \"#E5ECF6\", \"width\": 0.5}}, \"type\": \"bar\"}], \"barpolar\": [{\"marker\": {\"line\": {\"color\": \"#E5ECF6\", \"width\": 0.5}}, \"type\": \"barpolar\"}], \"carpet\": [{\"aaxis\": {\"endlinecolor\": \"#2a3f5f\", \"gridcolor\": \"white\", \"linecolor\": \"white\", \"minorgridcolor\": \"white\", \"startlinecolor\": \"#2a3f5f\"}, \"baxis\": {\"endlinecolor\": \"#2a3f5f\", \"gridcolor\": \"white\", \"linecolor\": \"white\", \"minorgridcolor\": \"white\", \"startlinecolor\": \"#2a3f5f\"}, \"type\": \"carpet\"}], \"choropleth\": [{\"colorbar\": {\"outlinewidth\": 0, \"ticks\": \"\"}, \"type\": \"choropleth\"}], \"contour\": [{\"colorbar\": {\"outlinewidth\": 0, \"ticks\": \"\"}, \"colorscale\": [[0.0, \"#0d0887\"], [0.1111111111111111, \"#46039f\"], [0.2222222222222222, \"#7201a8\"], [0.3333333333333333, \"#9c179e\"], [0.4444444444444444, \"#bd3786\"], [0.5555555555555556, \"#d8576b\"], [0.6666666666666666, \"#ed7953\"], [0.7777777777777778, \"#fb9f3a\"], [0.8888888888888888, \"#fdca26\"], [1.0, \"#f0f921\"]], \"type\": \"contour\"}], \"contourcarpet\": [{\"colorbar\": {\"outlinewidth\": 0, \"ticks\": \"\"}, \"type\": \"contourcarpet\"}], \"heatmap\": [{\"colorbar\": {\"outlinewidth\": 0, \"ticks\": \"\"}, \"colorscale\": [[0.0, \"#0d0887\"], [0.1111111111111111, \"#46039f\"], [0.2222222222222222, \"#7201a8\"], [0.3333333333333333, \"#9c179e\"], [0.4444444444444444, \"#bd3786\"], [0.5555555555555556, \"#d8576b\"], [0.6666666666666666, \"#ed7953\"], [0.7777777777777778, \"#fb9f3a\"], [0.8888888888888888, \"#fdca26\"], [1.0, \"#f0f921\"]], \"type\": \"heatmap\"}], \"heatmapgl\": [{\"colorbar\": {\"outlinewidth\": 0, \"ticks\": \"\"}, \"colorscale\": [[0.0, \"#0d0887\"], [0.1111111111111111, \"#46039f\"], [0.2222222222222222, \"#7201a8\"], [0.3333333333333333, \"#9c179e\"], [0.4444444444444444, \"#bd3786\"], [0.5555555555555556, \"#d8576b\"], [0.6666666666666666, \"#ed7953\"], [0.7777777777777778, \"#fb9f3a\"], [0.8888888888888888, \"#fdca26\"], [1.0, \"#f0f921\"]], \"type\": \"heatmapgl\"}], \"histogram\": [{\"marker\": {\"colorbar\": {\"outlinewidth\": 0, \"ticks\": \"\"}}, \"type\": \"histogram\"}], \"histogram2d\": [{\"colorbar\": {\"outlinewidth\": 0, \"ticks\": \"\"}, \"colorscale\": [[0.0, \"#0d0887\"], [0.1111111111111111, \"#46039f\"], [0.2222222222222222, \"#7201a8\"], [0.3333333333333333, \"#9c179e\"], [0.4444444444444444, \"#bd3786\"], [0.5555555555555556, \"#d8576b\"], [0.6666666666666666, \"#ed7953\"], [0.7777777777777778, \"#fb9f3a\"], [0.8888888888888888, \"#fdca26\"], [1.0, \"#f0f921\"]], \"type\": \"histogram2d\"}], \"histogram2dcontour\": [{\"colorbar\": {\"outlinewidth\": 0, \"ticks\": \"\"}, \"colorscale\": [[0.0, \"#0d0887\"], [0.1111111111111111, \"#46039f\"], [0.2222222222222222, \"#7201a8\"], [0.3333333333333333, \"#9c179e\"], [0.4444444444444444, \"#bd3786\"], [0.5555555555555556, \"#d8576b\"], [0.6666666666666666, \"#ed7953\"], [0.7777777777777778, \"#fb9f3a\"], [0.8888888888888888, \"#fdca26\"], [1.0, \"#f0f921\"]], \"type\": \"histogram2dcontour\"}], \"mesh3d\": [{\"colorbar\": {\"outlinewidth\": 0, \"ticks\": \"\"}, \"type\": \"mesh3d\"}], \"parcoords\": [{\"line\": {\"colorbar\": {\"outlinewidth\": 0, \"ticks\": \"\"}}, \"type\": \"parcoords\"}], \"pie\": [{\"automargin\": true, \"type\": \"pie\"}], \"scatter\": [{\"marker\": {\"colorbar\": {\"outlinewidth\": 0, \"ticks\": \"\"}}, \"type\": \"scatter\"}], \"scatter3d\": [{\"line\": {\"colorbar\": {\"outlinewidth\": 0, \"ticks\": \"\"}}, \"marker\": {\"colorbar\": {\"outlinewidth\": 0, \"ticks\": \"\"}}, \"type\": \"scatter3d\"}], \"scattercarpet\": [{\"marker\": {\"colorbar\": {\"outlinewidth\": 0, \"ticks\": \"\"}}, \"type\": \"scattercarpet\"}], \"scattergeo\": [{\"marker\": {\"colorbar\": {\"outlinewidth\": 0, \"ticks\": \"\"}}, \"type\": \"scattergeo\"}], \"scattergl\": [{\"marker\": {\"colorbar\": {\"outlinewidth\": 0, \"ticks\": \"\"}}, \"type\": \"scattergl\"}], \"scattermapbox\": [{\"marker\": {\"colorbar\": {\"outlinewidth\": 0, \"ticks\": \"\"}}, \"type\": \"scattermapbox\"}], \"scatterpolar\": [{\"marker\": {\"colorbar\": {\"outlinewidth\": 0, \"ticks\": \"\"}}, \"type\": \"scatterpolar\"}], \"scatterpolargl\": [{\"marker\": {\"colorbar\": {\"outlinewidth\": 0, \"ticks\": \"\"}}, \"type\": \"scatterpolargl\"}], \"scatterternary\": [{\"marker\": {\"colorbar\": {\"outlinewidth\": 0, \"ticks\": \"\"}}, \"type\": \"scatterternary\"}], \"surface\": [{\"colorbar\": {\"outlinewidth\": 0, \"ticks\": \"\"}, \"colorscale\": [[0.0, \"#0d0887\"], [0.1111111111111111, \"#46039f\"], [0.2222222222222222, \"#7201a8\"], [0.3333333333333333, \"#9c179e\"], [0.4444444444444444, \"#bd3786\"], [0.5555555555555556, \"#d8576b\"], [0.6666666666666666, \"#ed7953\"], [0.7777777777777778, \"#fb9f3a\"], [0.8888888888888888, \"#fdca26\"], [1.0, \"#f0f921\"]], \"type\": \"surface\"}], \"table\": [{\"cells\": {\"fill\": {\"color\": \"#EBF0F8\"}, \"line\": {\"color\": \"white\"}}, \"header\": {\"fill\": {\"color\": \"#C8D4E3\"}, \"line\": {\"color\": \"white\"}}, \"type\": \"table\"}]}, \"layout\": {\"annotationdefaults\": {\"arrowcolor\": \"#2a3f5f\", \"arrowhead\": 0, \"arrowwidth\": 1}, \"autotypenumbers\": \"strict\", \"coloraxis\": {\"colorbar\": {\"outlinewidth\": 0, \"ticks\": \"\"}}, \"colorscale\": {\"diverging\": [[0, \"#8e0152\"], [0.1, \"#c51b7d\"], [0.2, \"#de77ae\"], [0.3, \"#f1b6da\"], [0.4, \"#fde0ef\"], [0.5, \"#f7f7f7\"], [0.6, \"#e6f5d0\"], [0.7, \"#b8e186\"], [0.8, \"#7fbc41\"], [0.9, \"#4d9221\"], [1, \"#276419\"]], \"sequential\": [[0.0, \"#0d0887\"], [0.1111111111111111, \"#46039f\"], [0.2222222222222222, \"#7201a8\"], [0.3333333333333333, \"#9c179e\"], [0.4444444444444444, \"#bd3786\"], [0.5555555555555556, \"#d8576b\"], [0.6666666666666666, \"#ed7953\"], [0.7777777777777778, \"#fb9f3a\"], [0.8888888888888888, \"#fdca26\"], [1.0, \"#f0f921\"]], \"sequentialminus\": [[0.0, \"#0d0887\"], [0.1111111111111111, \"#46039f\"], [0.2222222222222222, \"#7201a8\"], [0.3333333333333333, \"#9c179e\"], [0.4444444444444444, \"#bd3786\"], [0.5555555555555556, \"#d8576b\"], [0.6666666666666666, \"#ed7953\"], [0.7777777777777778, \"#fb9f3a\"], [0.8888888888888888, \"#fdca26\"], [1.0, \"#f0f921\"]]}, \"colorway\": [\"#636efa\", \"#EF553B\", \"#00cc96\", \"#ab63fa\", \"#FFA15A\", \"#19d3f3\", \"#FF6692\", \"#B6E880\", \"#FF97FF\", \"#FECB52\"], \"font\": {\"color\": \"#2a3f5f\"}, \"geo\": {\"bgcolor\": \"white\", \"lakecolor\": \"white\", \"landcolor\": \"#E5ECF6\", \"showlakes\": true, \"showland\": true, \"subunitcolor\": \"white\"}, \"hoverlabel\": {\"align\": \"left\"}, \"hovermode\": \"closest\", \"mapbox\": {\"style\": \"light\"}, \"paper_bgcolor\": \"white\", \"plot_bgcolor\": \"#E5ECF6\", \"polar\": {\"angularaxis\": {\"gridcolor\": \"white\", \"linecolor\": \"white\", \"ticks\": \"\"}, \"bgcolor\": \"#E5ECF6\", \"radialaxis\": {\"gridcolor\": \"white\", \"linecolor\": \"white\", \"ticks\": \"\"}}, \"scene\": {\"xaxis\": {\"backgroundcolor\": \"#E5ECF6\", \"gridcolor\": \"white\", \"gridwidth\": 2, \"linecolor\": \"white\", \"showbackground\": true, \"ticks\": \"\", \"zerolinecolor\": \"white\"}, \"yaxis\": {\"backgroundcolor\": \"#E5ECF6\", \"gridcolor\": \"white\", \"gridwidth\": 2, \"linecolor\": \"white\", \"showbackground\": true, \"ticks\": \"\", \"zerolinecolor\": \"white\"}, \"zaxis\": {\"backgroundcolor\": \"#E5ECF6\", \"gridcolor\": \"white\", \"gridwidth\": 2, \"linecolor\": \"white\", \"showbackground\": true, \"ticks\": \"\", \"zerolinecolor\": \"white\"}}, \"shapedefaults\": {\"line\": {\"color\": \"#2a3f5f\"}}, \"ternary\": {\"aaxis\": {\"gridcolor\": \"white\", \"linecolor\": \"white\", \"ticks\": \"\"}, \"baxis\": {\"gridcolor\": \"white\", \"linecolor\": \"white\", \"ticks\": \"\"}, \"bgcolor\": \"#E5ECF6\", \"caxis\": {\"gridcolor\": \"white\", \"linecolor\": \"white\", \"ticks\": \"\"}}, \"title\": {\"x\": 0.05}, \"xaxis\": {\"automargin\": true, \"gridcolor\": \"white\", \"linecolor\": \"white\", \"ticks\": \"\", \"title\": {\"standoff\": 15}, \"zerolinecolor\": \"white\", \"zerolinewidth\": 2}, \"yaxis\": {\"automargin\": true, \"gridcolor\": \"white\", \"linecolor\": \"white\", \"ticks\": \"\", \"title\": {\"standoff\": 15}, \"zerolinecolor\": \"white\", \"zerolinewidth\": 2}}}, \"title\": {\"text\": \"TOTAL DE MENSAGEM POR HORA\"}, \"xaxis\": {\"anchor\": \"y\", \"domain\": [0.0, 1.0], \"title\": {\"text\": \"hora\"}}, \"yaxis\": {\"anchor\": \"x\", \"domain\": [0.0, 1.0], \"title\": {\"text\": \"count\"}}},                        {\"responsive\": true}                    ).then(function(){\n",
       "                            \n",
       "var gd = document.getElementById('70f3a998-96fb-40b9-b892-8b861b73d02a');\n",
       "var x = new MutationObserver(function (mutations, observer) {{\n",
       "        var display = window.getComputedStyle(gd).display;\n",
       "        if (!display || display === 'none') {{\n",
       "            console.log([gd, 'removed!']);\n",
       "            Plotly.purge(gd);\n",
       "            observer.disconnect();\n",
       "        }}\n",
       "}});\n",
       "\n",
       "// Listen for the removal of the full notebook cells\n",
       "var notebookContainer = gd.closest('#notebook-container');\n",
       "if (notebookContainer) {{\n",
       "    x.observe(notebookContainer, {childList: true});\n",
       "}}\n",
       "\n",
       "// Listen for the clearing of the current output cell\n",
       "var outputEl = gd.closest('.output');\n",
       "if (outputEl) {{\n",
       "    x.observe(outputEl, {childList: true});\n",
       "}}\n",
       "\n",
       "                        })                };                });            </script>        </div>"
      ]
     },
     "metadata": {},
     "output_type": "display_data"
    }
   ],
   "source": [
    "hour_grouped_msg = (df.set_index ('hora') ['mensagem'] \n",
    "                          .groupby (level = 0) \n",
    "                          .value_counts () \n",
    "                          .groupby (level = 0) \n",
    "                          .sum () \n",
    "                          .reset_index (name = 'count'))\n",
    "fig = px.bar (hour_grouped_msg, x = 'hora', y = 'count', \n",
    "                 labels = {'hour': '24 horas Período'}, \n",
    "                 height = 400) \n",
    "fig.update_traces (marker_color = '# EDCC8B', marker_line_color = '#D4A29C', \n",
    "                  marker_line_width = 1.5, opacity = 0.6) \n",
    "fig.update_layout (title_text = 'TOTAL DE MENSAGEM POR HORA') \n",
    "fig.show ()"
   ]
  },
  {
   "cell_type": "code",
   "execution_count": 49,
   "metadata": {
    "scrolled": true
   },
   "outputs": [
    {
     "data": {
      "image/png": "[encoded data removed]",
      "text/plain": [
       "<Figure size 921.6x518.4 with 1 Axes>"
      ]
     },
     "metadata": {
      "needs_background": "light"
     },
     "output_type": "display_data"
    }
   ],
   "source": [
    "\n",
    "stopwords = set(STOPWORDS)\n",
    "stopwords.update([\"kkk\", \"kkkk\", \"aqui\",\"mais\", \"acho\", \"vai\", \"vou\",\"vc\",\"mim\", \"ta\", \"q\",\"mas\",\"tem\",\"sim\",\"ai\", \"não\",\"da\", \"meu\", \"uma\",\"na\",\"em\", \"você\", \"de\", \"ao\", \"os\", \"é\", \"já\", \"um\", \"e\", \"eu\", \"para\", \"ele\", \"que\", \"o\", \"se\",\"só\", \"pra\",\"a\",\"à\",\"agora\",\"ainda\",\"alguém\",\"algum\",\"alguma\",\"algumas\",\"alguns\",\"ampla\",\"amplas\",\"amplo\",\"amplos\",\"ante\",\"antes\",\"ao\",\"aos\",\"após\",\"aquela\",\"aquelas\",\"aquele\",\"aqueles\",\"aquilo\",\"as\",\"até\",\"através\",\"cada\",\"coisa\",\"coisas\",\"com\",\"como\",\"contra\",\"contudo\",\"da\",\"daquele\",\"daqueles\",\"das\",\"de\",\"dela\",\"delas\",\"dele\",\"deles\",\"depois\",\"dessa\",\"dessas\",\"desse\",\"desses\",\"desta\",\"destas\",\"deste\",\"deste\",\"destes\",\"deve\",\"devem\",\"devendo\",\"dever\",\"deverá\",\"deverão\",\"deveria\",\"deveriam\",\"devia\",\"deviam\",\"disse\",\"disso\",\"disto\",\"dito\",\"diz\",\"dizem\",\"do\",\"dos\",\"e\",\"é\",\"e'\",\"ela\",\"elas\",\"ele\",\"eles\",\"em\",\"enquanto\",\"entre\",\"era\",\"essa\",\"essas\",\"esse\",\"esses\",\"esta\",\"está\",\"estamos\",\"estão\",\"estas\",\"estava\",\"estavam\",\"estávamos\",\"este\",\"estes\",\"estou\",\"eu\",\"fazendo\",\"fazer\",\"feita\",\"feitas\",\"feito\",\"feitos\",\"foi\",\"for\",\"foram\",\"fosse\",\"fossem\",\"grande\",\"grandes\",\"há\",\"isso\",\"isto\",\"já\",\"la\",\"la\",\"lá\",\"lhe\",\"lhes\",\"lo\",\"mas\",\"me\",\"mesma\",\"mesmas\",\"mesmo\",\"mesmos\",\"meu\",\"meus\",\"minha\",\"minhas\",\"muita\",\"muitas\",\"muito\",\"muitos\",\"na\",\"não\",\"nas\",\"nem\",\"nenhum\",\"nessa\",\"nessas\",\"nesta\",\"nestas\",\"ninguém\",\"no\",\"nos\",\"nós\",\"nossa\",\"nossas\",\"nosso\",\"nossos\",\"num\",\"numa\",\"nunca\",\"o\",\"os\",\"ou\",\"outra\",\"outras\",\"outro\",\"outros\",\"para\",\"pela\",\"pelas\",\"pelo\",\"pelos\",\"pequena\",\"pequenas\",\"pequeno\",\"pequenos\",\"per\",\"perante\",\"pode\",\"pôde\",\"podendo\",\"poder\",\"poderia\",\"poderiam\",\"podia\",\"podiam\",\"pois\",\"por\",\"porém\",\"porque\",\"posso\",\"pouca\",\"poucas\",\"pouco\",\"poucos\",\"primeiro\",\"primeiros\",\"própria\",\"próprias\",\"próprio\",\"próprios\",\"quais\",\"qual\",\"quando\",\"quanto\",\"quantos\",\"que\",\"quem\",\"são\",\"se\",\"seja\",\"sejam\",\"sem\",\"sempre\",\"sendo\",\"será\",\"serão\",\"seu\",\"seus\",\"si\",\"sido\",\"só\",\"sob\",\"sobre\",\"sua\",\"suas\",\"talvez\",\"também\",\"tampouco\",\"te\",\"tem\",\"tendo\",\"tenha\",\"ter\",\"teu\",\"teus\",\"ti\",\"tido\",\"tinha\",\"tinham\",\"toda\",\"todas\",\"todavia\",\"todo\",\"todos\",\"tu\",\"tua\",\"tuas\",\"tudo\",\"última\",\"últimas\",\"último\",\"últimos\",\"um\",\"uma\",\"umas\",\"uns\",\"vendo\",\"ver\",\"vez\",\"vindo\",\"vir\",\"vos\",\"vós\"\n",
    " ])\n",
    "\n",
    "\n",
    "# Gerar uma imagem wordcloud\n",
    "wordcloud = WordCloud(stopwords=stopwords, \n",
    "                      background_color=\"WHITE\", \n",
    "                      width=2000, height=1000).generate(text)\n",
    "\n",
    "plt.figure(figsize=(12.8, 7.2))\n",
    "plt.title(\"PALAVRAS MAIS USADAS\", fontsize=20, color=\"black\")\n",
    "\n",
    "plt.imshow(wordcloud, interpolation='bilinear')\n",
    "plt.axis(\"off\")\n",
    "plt.show()"
   ]
  },
  {
   "cell_type": "code",
   "execution_count": null,
   "metadata": {},
   "outputs": [],
   "source": []
  }
 ],
 "metadata": {
  "kernelspec": {
   "display_name": "Python 3",
   "language": "python",
   "name": "python3"
  },
  "language_info": {
   "codemirror_mode": {
    "name": "ipython",
    "version": 3
   },
   "file_extension": ".py",
   "mimetype": "text/x-python",
   "name": "python",
   "nbconvert_exporter": "python",
   "pygments_lexer": "ipython3",
   "version": "3.8.3"
  }
 },
 "nbformat": 4,
 "nbformat_minor": 4
}
